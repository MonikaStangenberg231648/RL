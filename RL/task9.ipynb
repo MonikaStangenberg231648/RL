{
 "cells": [
  {
   "cell_type": "code",
   "execution_count": 1,
   "metadata": {},
   "outputs": [],
   "source": [
    "from sim_class import Simulation\n",
    "sim = Simulation(num_agents=1)"
   ]
  },
  {
   "cell_type": "code",
   "execution_count": 2,
   "metadata": {},
   "outputs": [],
   "source": [
    "def track_positions(sim, velocity_x, velocity_y, velocity_z, steps):\n",
    "    drop_command = 0  \n",
    "    actions = [[velocity_x, velocity_y, velocity_z, drop_command]]\n",
    "    \n",
    "    tracked_positions = []\n",
    "    \n",
    "    for step in range(steps):\n",
    "        sim.run(actions, num_steps=1) \n",
    "        \n",
    "        positions = sim.get_states()\n",
    "        if positions:\n",
    "            robot_position = positions.get(\"robotId_1\", {}).get(\"robot_position\")\n",
    "            if robot_position:\n",
    "                tracked_positions.append(robot_position) \n",
    "    \n",
    "    return tracked_positions"
   ]
  },
  {
   "cell_type": "code",
   "execution_count": 3,
   "metadata": {},
   "outputs": [
    {
     "name": "stdout",
     "output_type": "stream",
     "text": [
      "Max x: 0.18002123365964817, Max y: 0.13041648131036393, Max z: 0.20041657529002058\n"
     ]
    }
   ],
   "source": [
    "tracked_positions_max = track_positions(sim, 0.1, 0.1, 0.1, 800)\n",
    "if tracked_positions_max:\n",
    "    x_max_positions = [pos[0] for pos in tracked_positions_max]\n",
    "    y_max_positions = [pos[1] for pos in tracked_positions_max]\n",
    "    z_max_positions = [pos[2] for pos in tracked_positions_max]\n",
    "\n",
    "    max_x = max(x_max_positions)\n",
    "    max_y = max(y_max_positions)\n",
    "    max_z = max(z_max_positions)\n",
    "    print(f\"Max x: {max_x}, Max y: {max_y}, Max z: {max_z}\")"
   ]
  },
  {
   "cell_type": "code",
   "execution_count": 4,
   "metadata": {},
   "outputs": [
    {
     "name": "stdout",
     "output_type": "stream",
     "text": [
      "Min x: -0.26041734814079537, Min y: -0.2604170161003456, Min z: 0.0799707717234818\n"
     ]
    }
   ],
   "source": [
    "tracked_positions_min = track_positions(sim, -0.1, -0.1, -0.1, 1600)\n",
    "if tracked_positions_min:\n",
    "    x_min_positions = [pos[0] for pos in tracked_positions_min]\n",
    "    y_min_positions = [pos[1] for pos in tracked_positions_min]\n",
    "    z_min_positions = [pos[2] for pos in tracked_positions_min]\n",
    "\n",
    "    min_x = min(x_min_positions)\n",
    "    min_y = min(y_min_positions)\n",
    "    min_z = min(z_min_positions)\n",
    "    print(f\"Min x: {min_x}, Min y: {min_y}, Min z: {min_z}\")"
   ]
  },
  {
   "cell_type": "code",
   "execution_count": 6,
   "metadata": {},
   "outputs": [
    {
     "name": "stdout",
     "output_type": "stream",
     "text": [
      "               Corner     X     Y     Z\n",
      "0      Top Front Left -0.26  0.13  0.20\n",
      "1     Top Front Right  0.18  0.13  0.20\n",
      "2       Top Back Left -0.26 -0.26  0.20\n",
      "3      Top Back Right  0.18 -0.26  0.20\n",
      "4   Bottom Front Left -0.26  0.13  0.08\n",
      "5  Bottom Front Right  0.18  0.13  0.08\n",
      "6    Bottom Back Left -0.26 -0.26  0.08\n",
      "7   Bottom Back Right  0.18 -0.26  0.08\n"
     ]
    }
   ],
   "source": [
    "import pandas as pd\n",
    "\n",
    "max_x = round(max_x, 2)\n",
    "min_x = round(min_x, 2)\n",
    "max_y = round(max_y, 2)\n",
    "min_y = round(min_y, 2)\n",
    "max_z = round(max_z, 2)\n",
    "min_z = round(min_z, 2)\n",
    "\n",
    "corners = {\n",
    "    \"Corner\": [\n",
    "        \"Top Front Left\", \"Top Front Right\", \"Top Back Left\", \"Top Back Right\",\n",
    "        \"Bottom Front Left\", \"Bottom Front Right\", \"Bottom Back Left\", \"Bottom Back Right\"\n",
    "    ],\n",
    "    \"X\": [min_x, max_x, min_x, max_x, min_x, max_x, min_x, max_x],\n",
    "    \"Y\": [max_y, max_y, min_y, min_y, max_y, max_y, min_y, min_y],\n",
    "    \"Z\": [max_z, max_z, max_z, max_z, min_z, min_z, min_z, min_z]\n",
    "}\n",
    "\n",
    "corners_df = pd.DataFrame(corners)\n",
    "print(corners_df)"
   ]
  }
 ],
 "metadata": {
  "kernelspec": {
   "display_name": "myenv",
   "language": "python",
   "name": "python3"
  },
  "language_info": {
   "codemirror_mode": {
    "name": "ipython",
    "version": 3
   },
   "file_extension": ".py",
   "mimetype": "text/x-python",
   "name": "python",
   "nbconvert_exporter": "python",
   "pygments_lexer": "ipython3",
   "version": "3.8.16"
  }
 },
 "nbformat": 4,
 "nbformat_minor": 2
}
